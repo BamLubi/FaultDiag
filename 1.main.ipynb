{
 "cells": [
  {
   "cell_type": "markdown",
   "metadata": {},
   "source": [
    "# 基于大规模日志的故障诊断\n",
    "\n",
    "> 任务类型: 根据日志信息以及报错时间点进行四分类\n",
    "\n",
    "**数据描述**\n",
    "\n",
    "|  文件名  |  含义  |  数据量  |  unique_sn  |\n",
    "|:--|:--:|:--:|:--:|\n",
    "|  data/train/`preliminary_sel_log_dataset`.csv  |  SEL训练日志数据  |  482536  |  13705  |\n",
    "|  data/train/`preliminary_train_label_dataset`.csv  |  训练标签数据_1  |  12260  |  9615  |\n",
    "|  data/train/`preliminary_train_label_dataset_s`.csv  |  训练标签数据_2  |  4409  |  4090  |\n",
    "|  data/train/`additional_sel_log_dataset`.csv  |  SEL日志语料数据  |  732674  |  11649  |\n",
    "|  data/test/`preliminary_sel_log_dataset_a`.csv  |  A榜测试日志数据  |  10991  |  2883  |\n",
    "|  data/test/`preliminary_submit_dataset_a`.csv  |  A榜提交文件  |  3011  |  2883  |\n",
    "\n",
    "**主要流程**\n",
    "\n",
    "1. 使用LSTM进行三分类，区分[0&1, 2 ,3]这三类。\n",
    "2. 使用模板匹配和随机森林区分[0, 1]。\n"
   ]
  },
  {
   "cell_type": "markdown",
   "metadata": {},
   "source": [
    "## 1. 引入包"
   ]
  },
  {
   "cell_type": "code",
   "execution_count": 1,
   "metadata": {
    "execution": {
     "iopub.execute_input": "2022-02-28T07:46:00.591523Z",
     "iopub.status.busy": "2022-02-28T07:46:00.590519Z",
     "iopub.status.idle": "2022-02-28T07:46:01.674879Z",
     "shell.execute_reply": "2022-02-28T07:46:01.674159Z",
     "shell.execute_reply.started": "2022-02-28T07:46:00.591479Z"
    },
    "scrolled": true
   },
   "outputs": [
    {
     "name": "stderr",
     "output_type": "stream",
     "text": [
      "Using TensorFlow backend.\n"
     ]
    }
   ],
   "source": [
    "import os\n",
    "import nltk\n",
    "# nltk.download('punkt')\n",
    "import numpy as np\n",
    "import pandas as pd\n",
    "import tensorflow as tf\n",
    "import lightgbm as lgb\n",
    "from tqdm import tqdm\n",
    "from nltk.tokenize import word_tokenize\n",
    "from gensim.models.doc2vec import Doc2Vec, TaggedDocument\n",
    "from sklearn.ensemble import RandomForestClassifier\n",
    "from sklearn.model_selection import cross_val_score\n",
    "import matplotlib.pyplot as plt\n",
    "from keras.models import Sequential, load_model\n",
    "from keras.layers import LSTM, Dense\n",
    "from keras.utils import to_categorical\n",
    "from bayes_opt import BayesianOptimization"
   ]
  },
  {
   "cell_type": "markdown",
   "metadata": {},
   "source": [
    "## 2. 分词"
   ]
  },
  {
   "cell_type": "code",
   "execution_count": 2,
   "metadata": {},
   "outputs": [
    {
     "name": "stdout",
     "output_type": "stream",
     "text": [
      "sel_data length 1237330\n",
      "sel_data_unique length 31128\n"
     ]
    }
   ],
   "source": [
    "# 获取所有日志信息\n",
    "sel_data_train = pd.read_csv('./data/train/preliminary_sel_log_dataset.csv')\n",
    "sel_data_add = pd.read_csv('./data/train/additional_sel_log_dataset.csv')\n",
    "sel_data_test_a = pd.read_csv('./data/test/preliminary_sel_log_dataset_a.csv')\n",
    "sel_data_test_b = pd.read_csv('./data/test/preliminary_sel_log_dataset_b.csv')\n",
    "# 全部日志信息\n",
    "sel_data = pd.concat([sel_data_train, sel_data_add, sel_data_test_a, sel_data_test_b])\n",
    "sel_data.sort_values(by=['sn', 'time'], inplace=True)\n",
    "sel_data.reset_index(drop=True, inplace=True)\n",
    "sel_data_unique = sel_data['sn'].drop_duplicates(keep='first').to_list()\n",
    "print(\"sel_data length\", len(sel_data))\n",
    "print(\"sel_data_unique length\", len(sel_data_unique))"
   ]
  },
  {
   "cell_type": "code",
   "execution_count": 3,
   "metadata": {},
   "outputs": [],
   "source": [
    "## 过滤二维list中的无用元素\n",
    "def filter_punc(data):\n",
    "    punc = ['|', '.', ',',]\n",
    "    return [x for x in data if x not in punc]\n",
    "\n",
    "## 对句子去重\n",
    "def remove_dup(data):\n",
    "    return list(set(data))\n",
    "\n",
    "## 句子转单词\n",
    "def sentence2word(datalist):\n",
    "    tmp = datalist\n",
    "    ## 分词\n",
    "    tmp = word_tokenize(tmp.lower())\n",
    "    ## 去除标点\n",
    "    tmp = filter_punc(tmp)\n",
    "    \n",
    "    return tmp"
   ]
  },
  {
   "cell_type": "code",
   "execution_count": null,
   "metadata": {
    "execution": {
     "iopub.execute_input": "2022-02-28T07:46:16.202656Z",
     "iopub.status.busy": "2022-02-28T07:46:16.202004Z",
     "iopub.status.idle": "2022-02-28T07:53:16.789192Z",
     "shell.execute_reply": "2022-02-28T07:53:16.788297Z",
     "shell.execute_reply.started": "2022-02-28T07:46:16.202606Z"
    },
    "scrolled": true
   },
   "outputs": [],
   "source": [
    "# 方法一：将一个服务器的所有日志和在一起\n",
    "# 取出每台服务器去重日志\n",
    "def merge_data(x):\n",
    "    msg = x['msg'].to_list()\n",
    "    msg = \".\".join(tmp)\n",
    "    x.iloc[0]['msg'] = msg\n",
    "    return x.iloc[0]\n",
    "embedding_data = sel_data.groupby([\"sn\"]).apply(merge_data)\n",
    "tokenized_sent = []\n",
    "\n",
    "for i in tqdm(range(len(sel_data_unique))):\n",
    "    ## 获取句子\n",
    "    tmp = embedding_data[embedding_data.sn == sel_data_unique[i]].msg.to_string()\n",
    "    ## 分词\n",
    "    tmp = word_tokenize(tmp.lower())\n",
    "    ## 去除标点\n",
    "    tmp = filter_punc(tmp)\n",
    "    ## 添加进数组\n",
    "    tokenized_sent.append(tmp)\n",
    "\n",
    "print(\"tokenized_sent Size\", len(tokenized_sent))\n",
    "print(len(tokenized_sent[0]), len(tokenized_sent[1]))"
   ]
  },
  {
   "cell_type": "markdown",
   "metadata": {},
   "source": [
    "## 3. 训练embbeding模型"
   ]
  },
  {
   "cell_type": "code",
   "execution_count": 4,
   "metadata": {
    "execution": {
     "iopub.execute_input": "2022-02-28T07:53:16.903156Z",
     "iopub.status.busy": "2022-02-28T07:53:16.902972Z",
     "iopub.status.idle": "2022-02-28T07:53:30.441669Z",
     "shell.execute_reply": "2022-02-28T07:53:30.440580Z",
     "shell.execute_reply.started": "2022-02-28T07:53:16.903135Z"
    },
    "scrolled": true
   },
   "outputs": [],
   "source": [
    "emb_model_path = \"./model/emb_200_10_500_total.d2v\"\n",
    "if os.path.isfile(emb_model_path):\n",
    "    model = Doc2Vec.load(emb_model_path)\n",
    "else:\n",
    "    tagged_data = [TaggedDocument(d, [i]) for i, d in enumerate(tokenized_sent)]\n",
    "    model = Doc2Vec(tagged_data, vector_size=200, window=10, min_count=2, sample=1e-5, epochs=500, workers=4)\n",
    "    ## 保存模型\n",
    "    model.save(emb_model_path)"
   ]
  },
  {
   "cell_type": "markdown",
   "metadata": {},
   "source": [
    "## 4. 构建训练集、验证集、测试集"
   ]
  },
  {
   "cell_type": "code",
   "execution_count": 5,
   "metadata": {
    "execution": {
     "iopub.execute_input": "2022-02-28T07:53:30.443596Z",
     "iopub.status.busy": "2022-02-28T07:53:30.443075Z",
     "iopub.status.idle": "2022-02-28T07:53:30.482577Z",
     "shell.execute_reply": "2022-02-28T07:53:30.481857Z",
     "shell.execute_reply.started": "2022-02-28T07:53:30.443558Z"
    },
    "scrolled": true
   },
   "outputs": [
    {
     "name": "stdout",
     "output_type": "stream",
     "text": [
      "Label Train Length 12260\n"
     ]
    }
   ],
   "source": [
    "## 训练集\n",
    "train_data = pd.read_csv('./data/train/preliminary_train_label_dataset.csv')\n",
    "train_data.sort_values(by=['sn', 'fault_time'], inplace=True)\n",
    "train_data.reset_index(drop=True, inplace=True)\n",
    "print(\"Label Train Length\", len(train_data))"
   ]
  },
  {
   "cell_type": "code",
   "execution_count": null,
   "metadata": {},
   "outputs": [],
   "source": [
    "## 第一阶段：原有0,1,2,3类将0,1类缩为0类,2类缩为1类,3类缩为2类\n",
    "train_label = train_data['label'].values\n",
    "### Part_1\n",
    "print(\"Prepare Part 1\")\n",
    "train_feature_part_1 = []\n",
    "#### 取时间序列8\n",
    "for i in tqdm(range(len(train_data))):\n",
    "    tmp = sel_data[(sel_data.sn == train_data.iloc[i]['sn']) & (sel_data.time <= train_data.iloc[i]['fault_time'])].tail(8).msg.to_list()\n",
    "    ans = [model.infer_vector(sentence2word(x)) for x in tmp]\n",
    "    ## 不够的补0\n",
    "    if len(tmp) < 8:\n",
    "        for i in range(8-len(tmp)):\n",
    "            ans.append(np.zeros((200)))\n",
    "    ## 追加\n",
    "    train_feature_part_1.append(ans)\n",
    "train_feature_part_1 = np.array(train_feature_part_1)\n",
    "train_label_part_1 = np.where(train_label == 1, 0, train_label)\n",
    "train_label_part_1 = np.where(train_label_part_1 == 2, 1, train_label_part_1)\n",
    "train_label_part_1 = np.where(train_label_part_1 == 3, 2, train_label_part_1)\n",
    "train_label_part_1 = to_categorical(train_label_part_1)\n",
    "np.save('./npy/train_feature_part_1.npy', train_feature_part_1)\n",
    "np.save('./npy/train_label_part_1.npy', train_label_part_1)"
   ]
  },
  {
   "cell_type": "code",
   "execution_count": 11,
   "metadata": {
    "execution": {
     "iopub.execute_input": "2022-02-28T08:18:45.415962Z",
     "iopub.status.busy": "2022-02-28T08:18:45.415443Z",
     "iopub.status.idle": "2022-02-28T08:18:45.421870Z",
     "shell.execute_reply": "2022-02-28T08:18:45.420745Z",
     "shell.execute_reply.started": "2022-02-28T08:18:45.415921Z"
    },
    "scrolled": true
   },
   "outputs": [
    {
     "name": "stdout",
     "output_type": "stream",
     "text": [
      "Label Valid Length 4409\n"
     ]
    }
   ],
   "source": [
    "## 验证集\n",
    "valid_data = pd.read_csv('./data/train/preliminary_train_label_dataset_s.csv')\n",
    "valid_data.sort_values(by=['sn', 'fault_time'], inplace=True)\n",
    "valid_data.reset_index(drop=True, inplace=True)\n",
    "print(\"Label Valid Length\", len(valid_data))"
   ]
  },
  {
   "cell_type": "code",
   "execution_count": null,
   "metadata": {},
   "outputs": [],
   "source": [
    "## 第一阶段：原有0,1,2,3类将0,1类缩为0类,2类缩为1类,3类缩为2类\n",
    "valid_label = valid_data['label'].values\n",
    "### Part_1\n",
    "print(\"Prepare Part 1\")\n",
    "valid_feature_part_1 = []\n",
    "#### 取时间序列8\n",
    "for i in tqdm(range(len(valid_data))):\n",
    "    tmp = sel_data[(sel_data.sn == valid_data.iloc[i]['sn']) & (sel_data.time <= valid_data.iloc[i]['fault_time'])].msg.to_list()\n",
    "    tmp = tmp[:8]\n",
    "    ans = [model.infer_vector(sentence2word(x)) for x in tmp]\n",
    "    ## 不够的补0\n",
    "    if len(tmp) < 8:\n",
    "        for i in range(8-len(tmp)):\n",
    "            ans.append(np.zeros((200)))\n",
    "    ## 追加\n",
    "    valid_feature_part_1.append(ans)\n",
    "valid_feature_part_1 = np.array(valid_feature_part_1)\n",
    "valid_label_part_1 = np.where(valid_label == 1, 0, valid_label)\n",
    "valid_label_part_1 = np.where(valid_label_part_1 == 2, 1, valid_label_part_1)\n",
    "valid_label_part_1 = np.where(valid_label_part_1 == 3, 2, valid_label_part_1)\n",
    "valid_label_part_1 = to_categorical(valid_label_part_1)\n",
    "np.save('./npy/valid_feature_part_1.npy', valid_feature_part_1)\n",
    "np.save('./npy/valid_label_part_1.npy', valid_label_part_1)"
   ]
  },
  {
   "cell_type": "code",
   "execution_count": 7,
   "metadata": {},
   "outputs": [],
   "source": [
    "## 测试集\n",
    "### 训练日志信息\n",
    "test_data = pd.read_csv('./data/test/preliminary_sel_log_dataset_b.csv')\n",
    "test_data.sort_values(by=['sn', 'time'], inplace=True)\n",
    "test_data.reset_index(drop=True, inplace=True)\n",
    "### 提交信息\n",
    "submit = pd.read_csv('./data/test/preliminary_submit_dataset_b.csv')\n",
    "submit.sort_values(by=['sn', 'fault_time'], inplace=True)\n",
    "submit.reset_index(drop=True, inplace=True)"
   ]
  },
  {
   "cell_type": "code",
   "execution_count": null,
   "metadata": {},
   "outputs": [],
   "source": [
    "### 构建测试数据\n",
    "test_feature = []\n",
    "for i in tqdm(range(len(submit))):\n",
    "    tmp = sel_data[(sel_data.sn == submit.iloc[i]['sn']) & (sel_data.time <= submit.iloc[i]['fault_time'])].msg.to_list()\n",
    "    tmp = tmp[:8]\n",
    "    ans = [model.infer_vector(sentence2word(x)) for x in tmp]\n",
    "    ## 不够的补0\n",
    "    if len(tmp) < 8:\n",
    "        for i in range(8-len(tmp)):\n",
    "            ans.append(np.zeros((200)))\n",
    "    ## 追加\n",
    "    test_feature.append(ans)\n",
    "test_feature = np.array(test_feature)\n",
    "np.save('./npy/test_feature.npy', test_feature)"
   ]
  },
  {
   "cell_type": "code",
   "execution_count": 16,
   "metadata": {},
   "outputs": [],
   "source": [
    "train_feature_part_1 = np.load('./npy/train_feature_part_1.npy')\n",
    "train_label_part_1 = np.load('./npy/train_label_part_1.npy')\n",
    "valid_feature_part_1 = np.load('./npy/valid_feature_part_1.npy')\n",
    "valid_label_part_1 = np.load('./npy/valid_label_part_1.npy')\n",
    "\n",
    "test_feature = np.load('./npy/test_feature.npy')"
   ]
  },
  {
   "cell_type": "code",
   "execution_count": 17,
   "metadata": {},
   "outputs": [
    {
     "name": "stdout",
     "output_type": "stream",
     "text": [
      "train_feature_part_1 <class 'numpy.ndarray'> (12260, 8, 200)\n",
      "train_label_part_1 <class 'numpy.ndarray'> (12260, 3)\n",
      "valid_feature_part_1 <class 'numpy.ndarray'> (4409, 8, 200)\n",
      "valid_label_part_1 <class 'numpy.ndarray'> (4409, 3)\n",
      "test_feature <class 'numpy.ndarray'> (3030, 8, 200)\n"
     ]
    }
   ],
   "source": [
    "print(\"train_feature_part_1\", type(train_feature_part_1), train_feature_part_1.shape)\n",
    "print(\"train_label_part_1\", type(train_label_part_1), train_label_part_1.shape)\n",
    "print(\"valid_feature_part_1\", type(valid_feature_part_1), valid_feature_part_1.shape)\n",
    "print(\"valid_label_part_1\", type(valid_label_part_1), valid_label_part_1.shape)\n",
    "\n",
    "print(\"test_feature\", type(test_feature), test_feature.shape)"
   ]
  },
  {
   "cell_type": "markdown",
   "metadata": {},
   "source": [
    "## 5. 第一阶段: 训练三分类网络"
   ]
  },
  {
   "cell_type": "code",
   "execution_count": 13,
   "metadata": {},
   "outputs": [],
   "source": [
    "# 画图\n",
    "def draw_plot(history):\n",
    "    # plot history\n",
    "    plt.style.use(\"seaborn\")\n",
    "    plt.figure(figsize=(10,10))\n",
    "    plt.subplot(221)\n",
    "    plt.plot(history.history['loss'], label='train')\n",
    "    plt.plot(history.history['val_loss'], label='valid')\n",
    "    plt.title(\"Loss\")\n",
    "    plt.legend()\n",
    "\n",
    "    plt.subplot(222)\n",
    "    plt.plot(history.history['accuracy'], label='train')\n",
    "    plt.plot(history.history['val_accuracy'], label='valid')\n",
    "    plt.title(\"Accuracy\")\n",
    "    plt.legend()\n",
    "\n",
    "    plt.subplot(212)\n",
    "    plt.plot(history.history['metric_F1_macro'], label='train')\n",
    "    plt.plot(history.history['val_metric_F1_macro'], label='valid')\n",
    "    plt.title(\"F1_macro\")\n",
    "    plt.legend()\n",
    "\n",
    "    plt.show()"
   ]
  },
  {
   "cell_type": "code",
   "execution_count": 18,
   "metadata": {},
   "outputs": [],
   "source": [
    "## 三分类评价指标\n",
    "def metric_F1_macro(y_true, y_pred):\n",
    "    weights = [5/7, 1/7, 1/7]\n",
    "    # 将小数转换成0,1,2\n",
    "    y_true = tf.arg_max(y_true, 1)\n",
    "    y_true = tf.one_hot(y_true, 3)\n",
    "    y_pred = tf.arg_max(y_pred, 1)\n",
    "    y_pred = tf.one_hot(y_pred, 3)\n",
    "    # 统计不同情况下的f1score    \n",
    "    ans = tf.Variable(0.)\n",
    "    for i in range(len(weights)):\n",
    "        TP = tf.reduce_sum(tf.multiply(y_true[:,i], y_pred[:,i]))\n",
    "        FP = tf.reduce_sum(tf.multiply(1-y_true[:,i], y_pred[:,i]))\n",
    "        FN = tf.reduce_sum(tf.multiply(y_true[:,i], 1-y_pred[:,i]))\n",
    "        precision = tf.where(tf.add(TP, FP)<=0., x=tf.Variable(0.), y=tf.div(TP, tf.add(TP, FP)))\n",
    "        recall = tf.where(tf.add(TP, FN)<=0., x=tf.Variable(0.), y=tf.div(TP, tf.add(TP, FN)))\n",
    "        F1 = tf.where(tf.add(precision, recall)<=0., x=tf.Variable(0.), y=tf.div(tf.multiply(precision, recall), tf.add(precision, recall)))\n",
    "        F1 = tf.multiply(tf.Variable(2.0), F1)\n",
    "        ans += tf.multiply(tf.Variable(weights[i]), F1)\n",
    "    return ans"
   ]
  },
  {
   "cell_type": "code",
   "execution_count": 19,
   "metadata": {},
   "outputs": [
    {
     "name": "stdout",
     "output_type": "stream",
     "text": [
      "Model: \"sequential_2\"\n",
      "_________________________________________________________________\n",
      "Layer (type)                 Output Shape              Param #   \n",
      "=================================================================\n",
      "lstm_4 (LSTM)                (None, 8, 256)            467968    \n",
      "_________________________________________________________________\n",
      "lstm_5 (LSTM)                (None, 8, 256)            525312    \n",
      "_________________________________________________________________\n",
      "lstm_6 (LSTM)                (None, 256)               525312    \n",
      "_________________________________________________________________\n",
      "dense_3 (Dense)              (None, 128)               32896     \n",
      "_________________________________________________________________\n",
      "dense_4 (Dense)              (None, 3)                 387       \n",
      "=================================================================\n",
      "Total params: 1,551,875\n",
      "Trainable params: 1,551,875\n",
      "Non-trainable params: 0\n",
      "_________________________________________________________________\n",
      "WARNING:tensorflow:From D:\\anaconda3\\envs\\reco\\lib\\site-packages\\keras\\backend\\tensorflow_backend.py:422: The name tf.global_variables is deprecated. Please use tf.compat.v1.global_variables instead.\n",
      "\n",
      "WARNING:tensorflow:From D:\\anaconda3\\envs\\reco\\lib\\site-packages\\keras\\backend\\tensorflow_backend.py:431: The name tf.is_variable_initialized is deprecated. Please use tf.compat.v1.is_variable_initialized instead.\n",
      "\n",
      "WARNING:tensorflow:From D:\\anaconda3\\envs\\reco\\lib\\site-packages\\keras\\backend\\tensorflow_backend.py:438: The name tf.variables_initializer is deprecated. Please use tf.compat.v1.variables_initializer instead.\n",
      "\n",
      "Train on 12260 samples, validate on 4409 samples\n",
      "Epoch 1/60\n",
      "12260/12260 [==============================] - 4s 363us/step - loss: 0.9640 - accuracy: 0.5544 - metric_F1_macro: 0.1047 - val_loss: 0.9644 - val_accuracy: 0.5552 - val_metric_F1_macro: 0.1009\n",
      "Epoch 2/60\n",
      "12260/12260 [==============================] - 3s 256us/step - loss: 0.9364 - accuracy: 0.5624 - metric_F1_macro: 0.1028 - val_loss: 0.9446 - val_accuracy: 0.5552 - val_metric_F1_macro: 0.1009\n",
      "Epoch 3/60\n",
      "12260/12260 [==============================] - 3s 244us/step - loss: 0.9074 - accuracy: 0.5723 - metric_F1_macro: 0.1719 - val_loss: 0.8722 - val_accuracy: 0.6153 - val_metric_F1_macro: 0.4008\n",
      "Epoch 4/60\n",
      "12260/12260 [==============================] - 3s 250us/step - loss: 0.8392 - accuracy: 0.6298 - metric_F1_macro: 0.4459 - val_loss: 0.7460 - val_accuracy: 0.6777 - val_metric_F1_macro: 0.4817\n",
      "Epoch 5/60\n",
      "12260/12260 [==============================] - 3s 233us/step - loss: 0.7745 - accuracy: 0.6779 - metric_F1_macro: 0.5421 - val_loss: 0.6977 - val_accuracy: 0.7237 - val_metric_F1_macro: 0.5667\n",
      "Epoch 6/60\n",
      "12260/12260 [==============================] - 3s 212us/step - loss: 0.7444 - accuracy: 0.6978 - metric_F1_macro: 0.5716 - val_loss: 0.6955 - val_accuracy: 0.7281 - val_metric_F1_macro: 0.5684\n",
      "Epoch 7/60\n",
      "12260/12260 [==============================] - 3s 208us/step - loss: 0.7239 - accuracy: 0.7074 - metric_F1_macro: 0.5851 - val_loss: 0.7004 - val_accuracy: 0.7190 - val_metric_F1_macro: 0.5823\n",
      "Epoch 8/60\n",
      "12260/12260 [==============================] - 2s 195us/step - loss: 0.7115 - accuracy: 0.7138 - metric_F1_macro: 0.5943 - val_loss: 0.7046 - val_accuracy: 0.7113 - val_metric_F1_macro: 0.5603\n",
      "Epoch 9/60\n",
      "12260/12260 [==============================] - 2s 193us/step - loss: 0.7187 - accuracy: 0.7131 - metric_F1_macro: 0.5947 - val_loss: 0.6807 - val_accuracy: 0.7340 - val_metric_F1_macro: 0.6113\n",
      "Epoch 10/60\n",
      "12260/12260 [==============================] - 3s 207us/step - loss: 0.7080 - accuracy: 0.7151 - metric_F1_macro: 0.5970 - val_loss: 0.6456 - val_accuracy: 0.7328 - val_metric_F1_macro: 0.6068\n",
      "Epoch 11/60\n",
      "12260/12260 [==============================] - 2s 195us/step - loss: 0.6997 - accuracy: 0.7203 - metric_F1_macro: 0.6074 - val_loss: 0.6019 - val_accuracy: 0.7507 - val_metric_F1_macro: 0.6302\n",
      "Epoch 12/60\n",
      "12260/12260 [==============================] - 2s 189us/step - loss: 0.6874 - accuracy: 0.7227 - metric_F1_macro: 0.6114 - val_loss: 0.6020 - val_accuracy: 0.7512 - val_metric_F1_macro: 0.6423\n",
      "Epoch 13/60\n",
      "12260/12260 [==============================] - 2s 194us/step - loss: 0.6729 - accuracy: 0.7283 - metric_F1_macro: 0.6271 - val_loss: 0.5810 - val_accuracy: 0.7544 - val_metric_F1_macro: 0.6486\n",
      "Epoch 14/60\n",
      "12260/12260 [==============================] - 2s 184us/step - loss: 0.6545 - accuracy: 0.7361 - metric_F1_macro: 0.6480 - val_loss: 0.6057 - val_accuracy: 0.7451 - val_metric_F1_macro: 0.6411\n",
      "Epoch 15/60\n",
      "12260/12260 [==============================] - 2s 177us/step - loss: 0.6506 - accuracy: 0.7338 - metric_F1_macro: 0.6593 - val_loss: 0.6112 - val_accuracy: 0.7378 - val_metric_F1_macro: 0.6270\n",
      "Epoch 16/60\n",
      "12260/12260 [==============================] - 2s 180us/step - loss: 0.6605 - accuracy: 0.7321 - metric_F1_macro: 0.6513 - val_loss: 0.5643 - val_accuracy: 0.7598 - val_metric_F1_macro: 0.6402\n",
      "Epoch 17/60\n",
      "12260/12260 [==============================] - 2s 182us/step - loss: 0.6340 - accuracy: 0.7427 - metric_F1_macro: 0.6705 - val_loss: 0.5837 - val_accuracy: 0.7766 - val_metric_F1_macro: 0.6756\n",
      "Epoch 18/60\n",
      "12260/12260 [==============================] - 2s 179us/step - loss: 0.6317 - accuracy: 0.7454 - metric_F1_macro: 0.6760 - val_loss: 0.5388 - val_accuracy: 0.8113 - val_metric_F1_macro: 0.7390\n",
      "Epoch 19/60\n",
      "12260/12260 [==============================] - 2s 178us/step - loss: 0.6178 - accuracy: 0.7529 - metric_F1_macro: 0.6896 - val_loss: 0.5702 - val_accuracy: 0.7607 - val_metric_F1_macro: 0.6570\n",
      "Epoch 20/60\n",
      "12260/12260 [==============================] - 2s 180us/step - loss: 0.6108 - accuracy: 0.7508 - metric_F1_macro: 0.6886 - val_loss: 0.6244 - val_accuracy: 0.7653 - val_metric_F1_macro: 0.6569\n",
      "Epoch 21/60\n",
      "12260/12260 [==============================] - 2s 173us/step - loss: 0.5925 - accuracy: 0.7612 - metric_F1_macro: 0.6984 - val_loss: 0.5794 - val_accuracy: 0.7489 - val_metric_F1_macro: 0.6428\n",
      "Epoch 22/60\n",
      "12260/12260 [==============================] - 2s 175us/step - loss: 0.5858 - accuracy: 0.7649 - metric_F1_macro: 0.7043 - val_loss: 0.5037 - val_accuracy: 0.8140 - val_metric_F1_macro: 0.7436\n",
      "Epoch 23/60\n",
      "12260/12260 [==============================] - 2s 171us/step - loss: 0.5765 - accuracy: 0.7728 - metric_F1_macro: 0.7143 - val_loss: 0.4816 - val_accuracy: 0.8249 - val_metric_F1_macro: 0.7433\n",
      "Epoch 24/60\n",
      "12260/12260 [==============================] - 2s 173us/step - loss: 0.5713 - accuracy: 0.7717 - metric_F1_macro: 0.7130 - val_loss: 0.4665 - val_accuracy: 0.8222 - val_metric_F1_macro: 0.7424\n",
      "Epoch 25/60\n",
      "12260/12260 [==============================] - 2s 171us/step - loss: 0.5736 - accuracy: 0.7698 - metric_F1_macro: 0.7116 - val_loss: 0.4910 - val_accuracy: 0.8115 - val_metric_F1_macro: 0.7155\n",
      "Epoch 26/60\n",
      "12260/12260 [==============================] - 2s 174us/step - loss: 0.5440 - accuracy: 0.7829 - metric_F1_macro: 0.7266 - val_loss: 0.4976 - val_accuracy: 0.8120 - val_metric_F1_macro: 0.7487\n",
      "Epoch 27/60\n",
      "12260/12260 [==============================] - 2s 173us/step - loss: 0.5565 - accuracy: 0.7784 - metric_F1_macro: 0.7228 - val_loss: 0.4888 - val_accuracy: 0.8179 - val_metric_F1_macro: 0.7290\n",
      "Epoch 28/60\n",
      "12260/12260 [==============================] - 2s 174us/step - loss: 0.5327 - accuracy: 0.7917 - metric_F1_macro: 0.7409 - val_loss: 0.4964 - val_accuracy: 0.8131 - val_metric_F1_macro: 0.7570\n",
      "Epoch 29/60\n",
      "12260/12260 [==============================] - 2s 173us/step - loss: 0.5358 - accuracy: 0.7868 - metric_F1_macro: 0.7339 - val_loss: 0.4475 - val_accuracy: 0.8349 - val_metric_F1_macro: 0.7598\n",
      "Epoch 30/60\n",
      "12260/12260 [==============================] - 2s 173us/step - loss: 0.5311 - accuracy: 0.7862 - metric_F1_macro: 0.7369 - val_loss: 0.4485 - val_accuracy: 0.8301 - val_metric_F1_macro: 0.7474\n",
      "Epoch 31/60\n",
      "12260/12260 [==============================] - 2s 175us/step - loss: 0.5263 - accuracy: 0.7906 - metric_F1_macro: 0.7406 - val_loss: 0.4614 - val_accuracy: 0.8285 - val_metric_F1_macro: 0.7470\n",
      "Epoch 32/60\n",
      "12260/12260 [==============================] - 2s 171us/step - loss: 0.5107 - accuracy: 0.7967 - metric_F1_macro: 0.7450 - val_loss: 0.4803 - val_accuracy: 0.8396 - val_metric_F1_macro: 0.7748\n",
      "Epoch 33/60\n",
      "12260/12260 [==============================] - 2s 173us/step - loss: 0.5203 - accuracy: 0.7929 - metric_F1_macro: 0.7379 - val_loss: 0.4758 - val_accuracy: 0.8265 - val_metric_F1_macro: 0.7393\n",
      "Epoch 34/60\n",
      "12260/12260 [==============================] - 2s 170us/step - loss: 0.5055 - accuracy: 0.8010 - metric_F1_macro: 0.7513 - val_loss: 0.4504 - val_accuracy: 0.8308 - val_metric_F1_macro: 0.7409\n",
      "Epoch 35/60\n",
      "12260/12260 [==============================] - 2s 173us/step - loss: 0.5153 - accuracy: 0.7990 - metric_F1_macro: 0.7501 - val_loss: 0.4440 - val_accuracy: 0.8396 - val_metric_F1_macro: 0.7609\n",
      "Epoch 36/60\n",
      "12260/12260 [==============================] - 2s 172us/step - loss: 0.4993 - accuracy: 0.8046 - metric_F1_macro: 0.7572 - val_loss: 0.4288 - val_accuracy: 0.8442 - val_metric_F1_macro: 0.7609\n",
      "Epoch 37/60\n",
      "12260/12260 [==============================] - 2s 171us/step - loss: 0.4913 - accuracy: 0.8104 - metric_F1_macro: 0.7630 - val_loss: 0.4224 - val_accuracy: 0.8474 - val_metric_F1_macro: 0.7626\n",
      "Epoch 38/60\n",
      "12260/12260 [==============================] - 2s 172us/step - loss: 0.5111 - accuracy: 0.7971 - metric_F1_macro: 0.7443 - val_loss: 0.5073 - val_accuracy: 0.8372 - val_metric_F1_macro: 0.7701\n",
      "Epoch 39/60\n",
      "12260/12260 [==============================] - 2s 173us/step - loss: 0.4905 - accuracy: 0.8094 - metric_F1_macro: 0.7612 - val_loss: 0.4409 - val_accuracy: 0.8376 - val_metric_F1_macro: 0.7656\n",
      "Epoch 40/60\n",
      "12260/12260 [==============================] - 2s 175us/step - loss: 0.4910 - accuracy: 0.8055 - metric_F1_macro: 0.7548 - val_loss: 0.4286 - val_accuracy: 0.8428 - val_metric_F1_macro: 0.7621\n",
      "Epoch 41/60\n",
      "12260/12260 [==============================] - 2s 176us/step - loss: 0.4850 - accuracy: 0.8110 - metric_F1_macro: 0.7610 - val_loss: 0.4525 - val_accuracy: 0.8283 - val_metric_F1_macro: 0.7188\n",
      "Epoch 42/60\n",
      "12260/12260 [==============================] - 2s 175us/step - loss: 0.4889 - accuracy: 0.8081 - metric_F1_macro: 0.7582 - val_loss: 0.4287 - val_accuracy: 0.8435 - val_metric_F1_macro: 0.7776\n",
      "Epoch 43/60\n",
      "12260/12260 [==============================] - 2s 180us/step - loss: 0.4753 - accuracy: 0.8135 - metric_F1_macro: 0.7665 - val_loss: 0.4187 - val_accuracy: 0.8476 - val_metric_F1_macro: 0.7753\n",
      "Epoch 44/60\n",
      "12260/12260 [==============================] - 2s 180us/step - loss: 0.4795 - accuracy: 0.8097 - metric_F1_macro: 0.7588 - val_loss: 0.4282 - val_accuracy: 0.8514 - val_metric_F1_macro: 0.7738\n",
      "Epoch 45/60\n",
      "12260/12260 [==============================] - 2s 178us/step - loss: 0.4712 - accuracy: 0.8134 - metric_F1_macro: 0.7631 - val_loss: 0.4302 - val_accuracy: 0.8440 - val_metric_F1_macro: 0.7651\n",
      "Epoch 46/60\n",
      "12260/12260 [==============================] - 2s 180us/step - loss: 0.4695 - accuracy: 0.8138 - metric_F1_macro: 0.7638 - val_loss: 0.4453 - val_accuracy: 0.8489 - val_metric_F1_macro: 0.7815\n",
      "Epoch 47/60\n",
      "12260/12260 [==============================] - 2s 180us/step - loss: 0.4686 - accuracy: 0.8158 - metric_F1_macro: 0.7668 - val_loss: 0.4122 - val_accuracy: 0.8514 - val_metric_F1_macro: 0.7933\n",
      "Epoch 48/60\n",
      "12260/12260 [==============================] - 2s 178us/step - loss: 0.4538 - accuracy: 0.8237 - metric_F1_macro: 0.7779 - val_loss: 0.3930 - val_accuracy: 0.8698 - val_metric_F1_macro: 0.8018\n",
      "Epoch 49/60\n",
      "12260/12260 [==============================] - 2s 178us/step - loss: 0.4609 - accuracy: 0.8202 - metric_F1_macro: 0.7743 - val_loss: 0.4457 - val_accuracy: 0.8449 - val_metric_F1_macro: 0.7884\n",
      "Epoch 50/60\n",
      "12260/12260 [==============================] - 2s 179us/step - loss: 0.4520 - accuracy: 0.8250 - metric_F1_macro: 0.7802 - val_loss: 0.4161 - val_accuracy: 0.8582 - val_metric_F1_macro: 0.7846\n",
      "Epoch 51/60\n",
      "12260/12260 [==============================] - 2s 180us/step - loss: 0.4396 - accuracy: 0.8311 - metric_F1_macro: 0.7866 - val_loss: 0.4561 - val_accuracy: 0.8351 - val_metric_F1_macro: 0.7398\n",
      "Epoch 52/60\n",
      "12260/12260 [==============================] - 2s 181us/step - loss: 0.4647 - accuracy: 0.8201 - metric_F1_macro: 0.7703 - val_loss: 0.4363 - val_accuracy: 0.8258 - val_metric_F1_macro: 0.7408\n",
      "Epoch 53/60\n",
      "12260/12260 [==============================] - 2s 183us/step - loss: 0.4429 - accuracy: 0.8301 - metric_F1_macro: 0.7833 - val_loss: 0.4253 - val_accuracy: 0.8505 - val_metric_F1_macro: 0.7873\n",
      "Epoch 54/60\n",
      "12260/12260 [==============================] - 2s 192us/step - loss: 0.4538 - accuracy: 0.8243 - metric_F1_macro: 0.7780 - val_loss: 0.4148 - val_accuracy: 0.8471 - val_metric_F1_macro: 0.7702\n",
      "Epoch 55/60\n",
      "12260/12260 [==============================] - 2s 181us/step - loss: 0.4385 - accuracy: 0.8312 - metric_F1_macro: 0.7848 - val_loss: 0.4004 - val_accuracy: 0.8521 - val_metric_F1_macro: 0.7781\n",
      "Epoch 56/60\n",
      "12260/12260 [==============================] - 2s 190us/step - loss: 0.4364 - accuracy: 0.8301 - metric_F1_macro: 0.7850 - val_loss: 0.4388 - val_accuracy: 0.8578 - val_metric_F1_macro: 0.7901\n",
      "Epoch 57/60\n",
      "12260/12260 [==============================] - 2s 197us/step - loss: 0.4204 - accuracy: 0.8386 - metric_F1_macro: 0.7958 - val_loss: 0.4184 - val_accuracy: 0.8562 - val_metric_F1_macro: 0.7871\n",
      "Epoch 58/60\n",
      "12260/12260 [==============================] - 2s 189us/step - loss: 0.4369 - accuracy: 0.8297 - metric_F1_macro: 0.7849 - val_loss: 0.3996 - val_accuracy: 0.8569 - val_metric_F1_macro: 0.7830\n",
      "Epoch 59/60\n",
      "12260/12260 [==============================] - 2s 186us/step - loss: 0.4208 - accuracy: 0.8390 - metric_F1_macro: 0.7976 - val_loss: 0.4361 - val_accuracy: 0.8503 - val_metric_F1_macro: 0.7948\n",
      "Epoch 60/60\n",
      "12260/12260 [==============================] - 2s 189us/step - loss: 0.4306 - accuracy: 0.8321 - metric_F1_macro: 0.7845 - val_loss: 0.4203 - val_accuracy: 0.8601 - val_metric_F1_macro: 0.7831\n"
     ]
    },
    {
     "data": {
      "image/png": "[encoded data removed]",
      "text/plain": [
       "<Figure size 720x720 with 3 Axes>"
      ]
     },
     "metadata": {},
     "output_type": "display_data"
    }
   ],
   "source": [
    "# 指定数据维度和时间步等参数\n",
    "data_dim = 200\n",
    "timesteps = 8\n",
    "num_classes = 3\n",
    "\n",
    "# 模型一: lstm_part_1_066.h5\n",
    "model_1 = Sequential()\n",
    "model_1.add(LSTM(256, return_sequences=True, input_shape=(timesteps, data_dim)))\n",
    "model_1.add(LSTM(256, return_sequences=True))\n",
    "model_1.add(LSTM(256))\n",
    "model_1.add(Dense(128, activation='relu'))\n",
    "model_1.add(Dense(num_classes, activation='softmax'))\n",
    "\n",
    "# loss: categorical_crossentropy\n",
    "model_1.compile(loss='categorical_crossentropy',\n",
    "              optimizer='adam',\n",
    "              metrics=['accuracy', metric_F1_macro])\n",
    "model_1.summary()\n",
    "# 模型训练\n",
    "history = model_1.fit(train_feature_part_1, train_label_part_1, batch_size=256, epochs=60, validation_data=(valid_feature_part_1, valid_label_part_1), verbose=1)\n",
    "# 画图\n",
    "draw_plot(history=history)"
   ]
  },
  {
   "cell_type": "code",
   "execution_count": null,
   "metadata": {},
   "outputs": [],
   "source": [
    "## 保存第一部分模型\n",
    "# model_1.save(\"./model/lstm_part_1_066.h5\")\n",
    "model_1 = load_model(\"model/lstm_part_1_066.h5\", custom_objects={\"metric_F1_macro\": metric_F1_macro})"
   ]
  },
  {
   "cell_type": "markdown",
   "metadata": {},
   "source": [
    "## 6. 第二阶段: 训练二分类网络"
   ]
  },
  {
   "cell_type": "code",
   "execution_count": 20,
   "metadata": {},
   "outputs": [],
   "source": [
    "df_data = pd.read_pickle('./model/template/cpu_diag_comp_sel_log_all_feature1h_3_sum.pkl')"
   ]
  },
  {
   "cell_type": "code",
   "execution_count": 21,
   "metadata": {},
   "outputs": [],
   "source": [
    "df_train_label = pd.read_csv('./data/train/preliminary_train_label_dataset.csv')\n",
    "df_train_label_s = pd.read_csv('./data/train/preliminary_train_label_dataset_s.csv')\n",
    "df_train_label = pd.concat([df_train_label, df_train_label_s])\n",
    "df_train_label = df_train_label.drop_duplicates(['sn','fault_time','label'])\n",
    "\n",
    "## 只分别01\n",
    "df_train_label = df_train_label[(df_train_label.label == 0) | df_train_label.label == 1]\n",
    "\n",
    "df_data_train = pd.merge(df_data[df_data.sn.isin(df_train_label.sn)],df_train_label, on='sn', how='left')\n",
    "y = df_data_train['label']\n",
    "x = df_data_train.drop(['sn','collect_time_gap','fault_time','label'],axis=1)"
   ]
  },
  {
   "cell_type": "code",
   "execution_count": 12,
   "metadata": {},
   "outputs": [],
   "source": [
    "# 使用贝叶斯优化寻找最佳配置\n",
    "# 定义目标函数\n",
    "def rf_cv(n_estimators, num_leaves, max_depth, learning_rate):\n",
    "    val = cross_val_score(\n",
    "        ## 决策树\n",
    "        lgb.LGBMClassifier(\n",
    "            n_estimators=int(n_estimators),\n",
    "            num_leaves=int(num_leaves),\n",
    "            max_depth=int(max_depth),\n",
    "            learning_rate=learning_rate,\n",
    "            random_state=2022,\n",
    "            boosting_type=\"gbdt\",\n",
    "            objective=\"binary\"\n",
    "        ),\n",
    "        x, y, scoring='f1_macro', cv=100\n",
    "    ).mean()\n",
    "    return val\n",
    "# 定义贝叶斯优化\n",
    "rf_bo = BayesianOptimization(\n",
    "        rf_cv,\n",
    "        {\n",
    "            'n_estimators': (10, 500),\n",
    "            'num_leaves': (8, 32),\n",
    "            'max_depth': (2, 10),\n",
    "            'learning_rate': (0.005, 0.1)\n",
    "        }\n",
    "    )\n",
    "# 寻找目标值最大的配置\n",
    "rf_bo.maximize()"
   ]
  },
  {
   "cell_type": "code",
   "execution_count": 22,
   "metadata": {},
   "outputs": [
    {
     "data": {
      "image/png": "[encoded data removed]",
      "text/plain": [
       "<Figure size 576x396 with 1 Axes>"
      ]
     },
     "metadata": {},
     "output_type": "display_data"
    }
   ],
   "source": [
    "# 随机森林 0.66\n",
    "clf = RandomForestClassifier(criterion='entropy', oob_score=True, random_state=2022)\n",
    "clf_s = cross_val_score(clf, x, y, cv=50, verbose=0, scoring=\"accuracy\")\n",
    "clf.fit(x, y)\n",
    "y2 = clf.predict(x)\n",
    "\n",
    "plt.style.use(\"seaborn\")\n",
    "plt.plot(range(len(clf_s)), clf_s, label = \"LGBM\")\n",
    "plt.legend()\n",
    "plt.show()"
   ]
  },
  {
   "cell_type": "code",
   "execution_count": 23,
   "metadata": {},
   "outputs": [
    {
     "name": "stdout",
     "output_type": "stream",
     "text": [
      "0.6881\n",
      "0.7033\n"
     ]
    }
   ],
   "source": [
    "# 训练集上01分类的效果\n",
    "for i in range(2):\n",
    "    TP = np.sum(y[y2==i]==i)\n",
    "    FP = np.sum(y[y2==i]!=i)\n",
    "    FN = np.sum(y[y2!=i]==i)\n",
    "    precision = TP /  (TP + FP)  if  (TP + FP)  >  0  else  0\n",
    "    recall = TP /  (TP + FN)  if  (TP + FN)  >  0  else  0\n",
    "    F1 =  2  * precision * recall /  (precision + recall)  if  (precision + recall)  >  0  else  0\n",
    "    print(\"%.4f\" % F1)"
   ]
  },
  {
   "cell_type": "markdown",
   "metadata": {},
   "source": [
    "## 7. 预测并保存结果"
   ]
  },
  {
   "cell_type": "code",
   "execution_count": 24,
   "metadata": {},
   "outputs": [],
   "source": [
    "## 评价函数\n",
    "def macro_f1(target_df,  submit_df):\n",
    "\tweights =  [3/7,  2/7,  1/7,  1/7]\n",
    "\t\n",
    "\toverall_df = target_df.merge(submit_df, how='left', on=['sn', 'fault_time'], suffixes=['_gt', '_pr'])\n",
    "\toverall_df.fillna(-1)\n",
    "\n",
    "\tmacro_F1 =  0.\n",
    "\tfor i in range(len(weights)):\n",
    "\t\tTP =  len(overall_df[(overall_df['label_gt'] == i) & (overall_df['label_pr'] == i)])\n",
    "\t\tFP =  len(overall_df[(overall_df['label_gt'] != i) & (overall_df['label_pr'] == i)])\t\n",
    "\t\tFN =  len(overall_df[(overall_df['label_gt'] == i) & (overall_df['label_pr'] != i)])\n",
    "\t\tprecision = TP /  (TP + FP)  if  (TP + FP)  >  0  else  0\n",
    "\t\trecall = TP /  (TP + FN)  if  (TP + FN)  >  0  else  0\n",
    "\t\tF1 =  2  * precision * recall /  (precision + recall)  if  (precision + recall)  >  0  else  0\n",
    "\t\tprint(\"%d %.2f %.2f %.2f\" % (i, F1, precision, recall))\n",
    "\t\tmacro_F1 += weights[i]  * F1\n",
    "\treturn macro_F1"
   ]
  },
  {
   "cell_type": "code",
   "execution_count": 25,
   "metadata": {},
   "outputs": [
    {
     "name": "stderr",
     "output_type": "stream",
     "text": [
      "100%|██████████| 1342/1342 [00:14<00:00, 92.00it/s]\n"
     ]
    },
    {
     "name": "stdout",
     "output_type": "stream",
     "text": [
      "0 0.46 0.70 0.35\n",
      "1 0.80 0.77 0.82\n",
      "2 0.93 0.90 0.95\n",
      "3 0.79 0.80 0.78\n",
      "Random Forest Macro_f1 0.6700926842551295\n"
     ]
    }
   ],
   "source": [
    "### 使用valid信息进行预测\n",
    "#### 第一阶段\n",
    "valid_label_pre = model_1.predict(valid_feature_part_1)\n",
    "valid_label_pre = [np.argmax(x) for x in valid_label_pre]\n",
    "valid_label_pre = np.array(valid_label_pre)\n",
    "valid_label_pre = np.where(valid_label_pre == 2, 3, valid_label_pre)\n",
    "valid_label_pre = np.where(valid_label_pre == 1, 2, valid_label_pre)\n",
    "\n",
    "data_2 = valid_data[valid_label_pre==0][['sn','fault_time']]\n",
    "x_test = []\n",
    "for i in tqdm(range(len(data_2))):\n",
    "    x_test.append(df_data[df_data.sn==data_2.iloc[i].sn].tail(1))\n",
    "    \n",
    "x_test = np.array(x_test)\n",
    "x_test = x_test.squeeze(1)\n",
    "x_test = x_test[:,2:]\n",
    "valid_label_pre_2 = clf.predict(x_test)\n",
    "valid_label_pre[valid_label_pre==0] = valid_label_pre_2\n",
    "\n",
    "valid_pre = valid_data.copy()\n",
    "valid_pre['label'] = valid_label_pre\n",
    "print(\"Random Forest Macro_f1\", macro_f1(valid_data, valid_pre))"
   ]
  },
  {
   "cell_type": "code",
   "execution_count": 26,
   "metadata": {
    "execution": {
     "iopub.execute_input": "2022-02-28T08:29:09.635094Z",
     "iopub.status.busy": "2022-02-28T08:29:09.634123Z",
     "iopub.status.idle": "2022-02-28T08:29:09.774843Z",
     "shell.execute_reply": "2022-02-28T08:29:09.773850Z",
     "shell.execute_reply.started": "2022-02-28T08:29:09.635030Z"
    },
    "scrolled": true
   },
   "outputs": [
    {
     "name": "stderr",
     "output_type": "stream",
     "text": [
      "100%|██████████| 923/923 [00:10<00:00, 89.19it/s]\n"
     ]
    }
   ],
   "source": [
    "## 预测并提交结果\n",
    "test_label = model_1.predict(test_feature)\n",
    "test_label = [np.argmax(x) for x in test_label]\n",
    "test_label = np.array(test_label)\n",
    "test_label = np.where(test_label == 2, 3, test_label)\n",
    "test_label = np.where(test_label == 1, 2, test_label)\n",
    "\n",
    "data_2 = submit[test_label==0][['sn','fault_time']]\n",
    "x_test = []\n",
    "for i in tqdm(range(len(data_2))):\n",
    "    x_test.append(df_data[df_data.sn==data_2.iloc[i].sn].tail(1))\n",
    "    \n",
    "x_test = np.array(x_test)\n",
    "x_test = x_test.squeeze(1)\n",
    "x_test = x_test[:,2:]\n",
    "test_label_2 = clf.predict(x_test)\n",
    "\n",
    "test_label[test_label==0] = test_label_2\n",
    "submit['label'] = test_label\n",
    "\n",
    "submit.to_csv('./preliminary_submit_dataset_b.csv', index=0)"
   ]
  }
 ],
 "metadata": {
  "interpreter": {
   "hash": "4fd4a764a9eecdf53c6ac00057933fab0a7774dce4b467e6f574d78ace6b906a"
  },
  "kernelspec": {
   "display_name": "Python 3",
   "language": "python",
   "name": "python3"
  },
  "language_info": {
   "codemirror_mode": {
    "name": "ipython",
    "version": 3
   },
   "file_extension": ".py",
   "mimetype": "text/x-python",
   "name": "python",
   "nbconvert_exporter": "python",
   "pygments_lexer": "ipython3",
   "version": "3.7.11"
  }
 },
 "nbformat": 4,
 "nbformat_minor": 4
}
